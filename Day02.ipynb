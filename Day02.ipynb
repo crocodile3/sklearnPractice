{
 "cells": [
  {
   "cell_type": "markdown",
   "metadata": {},
   "source": [
    "## 1.Numpy示例"
   ]
  },
  {
   "cell_type": "code",
   "execution_count": 5,
   "metadata": {},
   "outputs": [
    {
     "name": "stdout",
     "output_type": "stream",
     "text": [
      "这是通过列表创建的一维数组:\n",
      "[1 2 3 4]\n",
      "这是通过列表创建的二维数组:\n",
      "[['1' '2' '3' '4']\n",
      " ['a' 'b' 'c' 'd']]\n",
      "通过zeros()方法生成的数组:[[0. 0. 0.]\n",
      " [0. 0. 0.]]\n",
      "随机矩阵:[[0.31184165 0.21092554 0.79769086 0.80734286]\n",
      " [0.60446744 0.425033   0.58863599 0.72481144]\n",
      " [0.729571   0.91827064 0.0160269  0.00306267]]\n"
     ]
    }
   ],
   "source": [
    "# 先导入numpy包\n",
    "import numpy as np\n",
    "\n",
    "def create_array():\n",
    "    # 通过传入列表创建数组\n",
    "    list0 = [1,2,3,4]\n",
    "    arr0 = np.array(list0)\n",
    "    print(\"这是通过列表创建的一维数组:\\n{}\".format(arr0))\n",
    "    list1 = [1,2,3,4]\n",
    "    list2 = ['a','b','c','d']\n",
    "    arr1 = np.array([list1,list2])\n",
    "    print(\"这是通过列表创建的二维数组:\\n{}\".format(arr1))\n",
    "    # 生成全0数组:zeros()\n",
    "    arr3 = np.zeros((2,3))\n",
    "    print(\"通过zeros()方法生成的数组:{}\".format(arr3))\n",
    "    # 生成随机数矩阵\n",
    "    arr4 = np.random.random(size=(3,4))\n",
    "    print(\"随机矩阵:{}\".format(arr4))\n",
    "create_array()\n"
   ]
  },
  {
   "cell_type": "markdown",
   "metadata": {},
   "source": [
    "## 2 pandas示例"
   ]
  },
  {
   "cell_type": "code",
   "execution_count": 38,
   "metadata": {},
   "outputs": [
    {
     "data": {
      "text/html": [
       "<div>\n",
       "<style scoped>\n",
       "    .dataframe tbody tr th:only-of-type {\n",
       "        vertical-align: middle;\n",
       "    }\n",
       "\n",
       "    .dataframe tbody tr th {\n",
       "        vertical-align: top;\n",
       "    }\n",
       "\n",
       "    .dataframe thead th {\n",
       "        text-align: right;\n",
       "    }\n",
       "</style>\n",
       "<table border=\"1\" class=\"dataframe\">\n",
       "  <thead>\n",
       "    <tr style=\"text-align: right;\">\n",
       "      <th></th>\n",
       "      <th>上午</th>\n",
       "      <th>中午</th>\n",
       "      <th>下午</th>\n",
       "    </tr>\n",
       "  </thead>\n",
       "  <tbody>\n",
       "    <tr>\n",
       "      <th>2018-10-20</th>\n",
       "      <td>1.746656</td>\n",
       "      <td>0.336571</td>\n",
       "      <td>-1.682035</td>\n",
       "    </tr>\n",
       "    <tr>\n",
       "      <th>2018-10-21</th>\n",
       "      <td>0.134018</td>\n",
       "      <td>0.429390</td>\n",
       "      <td>-1.995334</td>\n",
       "    </tr>\n",
       "    <tr>\n",
       "      <th>2018-10-22</th>\n",
       "      <td>1.957234</td>\n",
       "      <td>-0.208644</td>\n",
       "      <td>-0.835615</td>\n",
       "    </tr>\n",
       "    <tr>\n",
       "      <th>2018-10-23</th>\n",
       "      <td>-0.715592</td>\n",
       "      <td>-1.900082</td>\n",
       "      <td>-0.287927</td>\n",
       "    </tr>\n",
       "    <tr>\n",
       "      <th>2018-10-24</th>\n",
       "      <td>0.752506</td>\n",
       "      <td>1.593557</td>\n",
       "      <td>-0.251597</td>\n",
       "    </tr>\n",
       "    <tr>\n",
       "      <th>2018-10-25</th>\n",
       "      <td>-1.088906</td>\n",
       "      <td>-0.814855</td>\n",
       "      <td>-1.095684</td>\n",
       "    </tr>\n",
       "    <tr>\n",
       "      <th>2018-10-26</th>\n",
       "      <td>0.529462</td>\n",
       "      <td>-0.692959</td>\n",
       "      <td>0.496375</td>\n",
       "    </tr>\n",
       "  </tbody>\n",
       "</table>\n",
       "</div>"
      ],
      "text/plain": [
       "                  上午        中午        下午\n",
       "2018-10-20  1.746656  0.336571 -1.682035\n",
       "2018-10-21  0.134018  0.429390 -1.995334\n",
       "2018-10-22  1.957234 -0.208644 -0.835615\n",
       "2018-10-23 -0.715592 -1.900082 -0.287927\n",
       "2018-10-24  0.752506  1.593557 -0.251597\n",
       "2018-10-25 -1.088906 -0.814855 -1.095684\n",
       "2018-10-26  0.529462 -0.692959  0.496375"
      ]
     },
     "execution_count": 38,
     "metadata": {},
     "output_type": "execute_result"
    }
   ],
   "source": [
    "### import pandas as pd\n",
    "import numpy as np\n",
    "\n",
    "# 生成时间序列索引\n",
    "dates = pd.date_range('20181020',periods=7)\n",
    "list1 = ['上午','中午','下午']\n",
    "# 生成DataFrame数据结构的数据\n",
    "dataframe1 = pd.DataFrame(np.random.randn(7,3),index=dates,columns=list1)"
   ]
  },
  {
   "cell_type": "markdown",
   "metadata": {},
   "source": [
    "## 3.随机漫步示例(numpy与matplotlib综合运用)"
   ]
  },
  {
   "cell_type": "markdown",
   "metadata": {},
   "source": [
    "### 3.1 利用Numpy产生随机数据"
   ]
  },
  {
   "cell_type": "code",
   "execution_count": 17,
   "metadata": {},
   "outputs": [
    {
     "name": "stdout",
     "output_type": "stream",
     "text": [
      "在10000次漫步中，第2116步前进最远的距离：13\n",
      "在10000次漫步中，第8166步后退最远的距离：-199\n"
     ]
    }
   ],
   "source": [
    "import numpy as np \n",
    "# 设置随机漫步的次数\n",
    "num = 10000\n",
    "# 利用numpy中的random生成随机数\n",
    "draws = np.random.randint(0,2,size=num)\n",
    "steps = np.where(draws>0,1,-1)\n",
    "walk = steps.cumsum()\n",
    "# 统计漫步过程中，前进和后退的最大步数\n",
    "max_y = walk.max()\n",
    "max_x = walk.argmax()\n",
    "print('在{}次漫步中，第{}步前进最远的距离：{}'.format(num,max_x,max_y))\n",
    "min_y = walk.min()\n",
    "min_x = walk.argmin()\n",
    "print('在{}次漫步中，第{}步后退最远的距离：{}'.format(num,min_x,min_y))"
   ]
  },
  {
   "cell_type": "markdown",
   "metadata": {},
   "source": [
    "### 3.2 利用matplotlib绘制图形"
   ]
  },
  {
   "cell_type": "code",
   "execution_count": 25,
   "metadata": {
    "scrolled": true
   },
   "outputs": [
    {
     "name": "stdout",
     "output_type": "stream",
     "text": [
      "[0.00000000e+00 1.00010001e+00 2.00020002e+00 ... 9.99799980e+03\n",
      " 9.99899990e+03 1.00000000e+04]\n"
     ]
    },
    {
     "data": {
      "image/png": "[encoded data removed]",
      "text/plain": [
       "<matplotlib.figure.Figure at 0x1bf31c76780>"
      ]
     },
     "metadata": {},
     "output_type": "display_data"
    }
   ],
   "source": [
    "import matplotlib.pyplot as plt\n",
    "# 中文字体显示设置\n",
    "plt.rcParams['font.sans-serif']=['SimHei']\n",
    "plt.rcParams['axes.unicode_minus']=False\n",
    "x = np.linspace(0,10000,num=10000)\n",
    "print(x)\n",
    "y1 = walk\n",
    "plt.figure()\n",
    "plt.title(\"随机漫步\")\n",
    "plt.plot(x,y1,color='blue',linewidth=1,label='walk step')\n",
    "plt.show()"
   ]
  }
 ],
 "metadata": {
  "kernelspec": {
   "display_name": "Python 3",
   "language": "python",
   "name": "python3"
  },
  "language_info": {
   "codemirror_mode": {
    "name": "ipython",
    "version": 3
   },
   "file_extension": ".py",
   "mimetype": "text/x-python",
   "name": "python",
   "nbconvert_exporter": "python",
   "pygments_lexer": "ipython3",
   "version": "3.6.4"
  }
 },
 "nbformat": 4,
 "nbformat_minor": 2
}
